{
 "cells": [
  {
   "cell_type": "markdown",
   "id": "3f8bd87b",
   "metadata": {},
   "source": [
    "### aim: \n",
    "\n",
    "### date: "
   ]
  },
  {
   "cell_type": "code",
   "execution_count": 1,
   "id": "8012f094",
   "metadata": {},
   "outputs": [
    {
     "data": {
      "text/html": [
       "<script>\n",
       "code_show=true; \n",
       "function code_toggle() {\n",
       " if (code_show){\n",
       " $('div.input').hide();\n",
       " } else {\n",
       " $('div.input').show();\n",
       " }\n",
       " code_show = !code_show\n",
       "} \n",
       "$( document ).ready(code_toggle);\n",
       "</script>\n",
       "<form action=\"javascript:code_toggle()\"><input type=\"submit\" value=\"Click here to toggle on/off the raw code.\"></form>"
      ],
      "text/plain": [
       "<IPython.core.display.HTML object>"
      ]
     },
     "execution_count": 1,
     "metadata": {},
     "output_type": "execute_result"
    }
   ],
   "source": [
    "from IPython.display import HTML\n",
    "\n",
    "HTML('''<script>\n",
    "code_show=true; \n",
    "function code_toggle() {\n",
    " if (code_show){\n",
    " $('div.input').hide();\n",
    " } else {\n",
    " $('div.input').show();\n",
    " }\n",
    " code_show = !code_show\n",
    "} \n",
    "$( document ).ready(code_toggle);\n",
    "</script>\n",
    "<form action=\"javascript:code_toggle()\"><input type=\"submit\" value=\"Click here to toggle on/off the raw code.\"></form>''')\n"
   ]
  },
  {
   "cell_type": "code",
   "execution_count": 2,
   "id": "c99f764a",
   "metadata": {},
   "outputs": [
    {
     "name": "stdin",
     "output_type": "stream",
     "text": [
      "Once deleted, variables cannot be recovered. Proceed (y/[n])?  y\n"
     ]
    }
   ],
   "source": [
    "%reset"
   ]
  },
  {
   "cell_type": "code",
   "execution_count": 3,
   "id": "7ba928a5",
   "metadata": {},
   "outputs": [],
   "source": [
    "import numpy as np\n",
    "import xarray as xr\n",
    "import matplotlib.pyplot as plt\n",
    "%matplotlib inline\n",
    "\n",
    "# from cmocean import cm\n",
    "# import cartopy as cp\n",
    "# import cartopy.crs as ccrs\n",
    "# import netCDF4 as nc\n",
    "# import warnings\n",
    "# from datetime import datetime\n",
    "# warnings.filterwarnings('ignore')\n",
    "# import cartopy.feature as cfeature\n",
    "# from importlib import reload\n",
    "# import matplotlib.path as mpath\n",
    "# import glob\n",
    "# import pickle\n",
    "# import pandas as pd\n",
    "# import seawater\n",
    "# import time\n",
    "# plt.rcParams.update({'font.size': 13})\n",
    "# font = {'family' : 'normal',\n",
    "# 'weight' : 'normal',\n",
    "# 'size'   : 13}\n",
    "# plt.rcParams['text.usetex'] = True\n",
    "# plt.rc('font', **font)"
   ]
  },
  {
   "cell_type": "code",
   "execution_count": 4,
   "id": "2327f0f3",
   "metadata": {},
   "outputs": [],
   "source": [
    "def get_limiter(run = 'TOM12_TJ_LC00', year = 1920):\n",
    "\n",
    "    tdir = f'/gpfs/data/greenocean/software/runs/{run}/'\n",
    "\n",
    "    tfi = f'ORCA2_1m_{year}0101_{year}1231_diad_T.nc'\n",
    "\n",
    "    w = xr.open_dataset(f'{tdir}/{tfi}')\n",
    "    print(f'{run} {year}')\n",
    "    \n",
    "    tmesh = xr.open_dataset('/gpfs/data/greenocean/software/resources/regrid/mesh_mask3_6.nc')\n",
    "    tm = tmesh.tmask.values\n",
    "    ## make meshmask of same size as data \n",
    "    tm_broad = np.zeros([12,31, 149, 182])\n",
    "    for i in range(0,12):\n",
    "        tm_broad[i,:,:,:] = tm[0,:,:,:]\n",
    "    #lim3fe_dia', 'lim3fe_mix', 'lim3fe_coc', 'lim3fe_pic', 'lim3fe_pha', 'lim3fe_fix', \n",
    "    pfts = ['dia','mix','coc','pic','pha','fix']\n",
    "\n",
    "    for pft in pfts:\n",
    "\n",
    "        A = f'lim3fe_{pft}'\n",
    "        B = f'lim4po4_{pft}'\n",
    "        if pft == 'dia':\n",
    "            C = f'lim5si_{pft}'\n",
    "        D = f'lim6din_{pft}'\n",
    "        E = f'LV_{pft}'\n",
    "        if pft == 'dia':\n",
    "            stacked = xr.concat([w[A], w[B], w[C], w[D]], dim='variable')\n",
    "        else:\n",
    "            stacked = xr.concat([w[A], w[B], w[D]], dim='variable')\n",
    "\n",
    "        stacked = stacked.where(stacked != 0, np.nan)\n",
    "        stacked = stacked.fillna(np.inf)\n",
    "\n",
    "        # Find the minimum values across the new 'variable' dimension\n",
    "        w[E] = stacked.min(dim='variable', skipna = True)\n",
    "\n",
    "        # Find the index of the minimum values (this will give 0, 1, 2, 3\n",
    "        # which we later transform to 10 20 30 40)\n",
    "        min_indices = stacked.argmin(dim='variable', skipna = True)\n",
    "        q2 = np.copy(min_indices).astype(float)\n",
    "        q2[np.where(tm_broad == 0)] = np.nan\n",
    "        # Add 1 to match the [1, 2, 3, 4] numbering scheme\n",
    "        q3 = (q2+1)*10 \n",
    "\n",
    "        if pft == 'dia': #silica lim is 5\n",
    "            q3[q3 == 10] = 3\n",
    "            q3[q3 == 20] = 4\n",
    "            q3[q3 == 30] = 5\n",
    "            q3[q3 == 40] = 6\n",
    "        else:\n",
    "            q3[q3 == 10] = 3\n",
    "            q3[q3 == 20] = 4\n",
    "            q3[q3 == 30] = 6\n",
    "            \n",
    "        q3[np.where(tm_broad == 0)] = np.nan\n",
    "        w[f'LN_{pft}'] = w[f'LV_{pft}']\n",
    "        w[f'LN_{pft}'].data = q3\n",
    "\n",
    "\n",
    "    w_sel = w[['LV_dia', 'LN_dia', 'LV_mix', 'LN_mix', 'LV_coc', 'LN_coc', 'LV_pic', 'LN_pic', 'LV_pha', 'LN_pha', 'LV_fix', 'LN_fix']]\n",
    "    \n",
    "    try:\n",
    "        w_sel.to_netcdf(f'{tdir}/ORCA2_1m_{year}0101_{year}1231_LoP_T.nc')\n",
    "        print(f'saved {run} {year}:')\n",
    "        print(f'{tdir}/ORCA2_1m_{year}0101_{year}1231_LoP_T.nc')\n",
    "        print()\n",
    "    except:\n",
    "        print(f'failed 2 save {run} {year}')\n",
    "        print()"
   ]
  },
  {
   "cell_type": "code",
   "execution_count": 5,
   "id": "bcaf0731-5a91-485f-9740-6933108869ad",
   "metadata": {},
   "outputs": [
    {
     "name": "stdout",
     "output_type": "stream",
     "text": [
      "TOM12_TJ_LA02 1975\n",
      "saved TOM12_TJ_LA02 1975:\n",
      "/gpfs/data/greenocean/software/runs/TOM12_TJ_LA02//ORCA2_1m_19750101_19751231_LoP_T.nc\n",
      "\n",
      "TOM12_TJ_LC02 1975\n",
      "saved TOM12_TJ_LC02 1975:\n",
      "/gpfs/data/greenocean/software/runs/TOM12_TJ_LC02//ORCA2_1m_19750101_19751231_LoP_T.nc\n",
      "\n"
     ]
    }
   ],
   "source": [
    "\n",
    "for year in range(1975,1976):\n",
    "    \n",
    "    get_limiter('TOM12_TJ_LA02', year)\n",
    "    get_limiter('TOM12_TJ_LC02', year)"
   ]
  },
  {
   "cell_type": "code",
   "execution_count": 6,
   "id": "afcdf0aa-350c-4374-a8cd-521cf2efc6cb",
   "metadata": {},
   "outputs": [
    {
     "name": "stdout",
     "output_type": "stream",
     "text": [
      "['deptht_bounds', 'DOCTRP', 'time_centered_bounds', 'time_counter_bounds', 'CARBTRP', 'CAPITRP', 'ALKTRP', 'EXP', 'GRAMIC', 'GRAMES', 'GRAMAC', 'PPTDOC', 'PPT', 'TChl', 'Detrit', 'Carniv', 'Herbiv', 'GRAMICPHY', 'GRAPTEPHY', 'GRAMESPHY', 'GRAGELPHY', 'GRAMACPHY', 'nitrfix', 'denitr', 'DELO2', 'vsink', 'sinksil', 'discarb', 'ExpCO3', 'ExpARA', 'GRAGEL', 'GRAPTE', 'proara', 'prococ', 'lim2mmfe_dia', 'lim2mmfe_mix', 'lim2mmfe_coc', 'lim2mmfe_pic', 'lim2mmfe_pha', 'lim2mmfe_fix', 'lim3fe_dia', 'lim3fe_mix', 'lim3fe_coc', 'lim3fe_pic', 'lim3fe_pha', 'lim3fe_fix', 'lim4po4_dia', 'lim4po4_mix', 'lim4po4_coc', 'lim4po4_pic', 'lim4po4_pha', 'lim4po4_fix', 'lim5si_dia', 'lim6din_dia', 'lim6din_mix', 'lim6din_coc', 'lim6din_pic', 'lim6din_pha', 'lim6din_fix', 'lim8light_dia', 'lim8light_mix', 'lim8light_coc', 'lim8light_pic', 'lim8light_pha', 'lim8light_fix', 'Cflx', 'PICflx', 'Oflx', 'dpCO2', 'pCO2', 'PPINT']\n"
     ]
    }
   ],
   "source": [
    "run = 'TOM12_TJ_LA02'\n",
    "year = 1985\n",
    "tdir = f'/gpfs/data/greenocean/software/runs/{run}/'\n",
    "\n",
    "tfi = f'ORCA2_1m_{year}0101_{year}1231_diad_T.nc'\n",
    "\n",
    "w = xr.open_dataset(f'{tdir}{tfi}')\n",
    "\n",
    "print(list(w.data_vars.keys()))"
   ]
  },
  {
   "cell_type": "markdown",
   "id": "1889f26c-0e64-4d8e-a72f-7acd4f327fd8",
   "metadata": {},
   "source": []
  }
 ],
 "metadata": {
  "kernelspec": {
   "display_name": "Python 3 (ipykernel)",
   "language": "python",
   "name": "python3"
  },
  "language_info": {
   "codemirror_mode": {
    "name": "ipython",
    "version": 3
   },
   "file_extension": ".py",
   "mimetype": "text/x-python",
   "name": "python",
   "nbconvert_exporter": "python",
   "pygments_lexer": "ipython3",
   "version": "3.7.11"
  }
 },
 "nbformat": 4,
 "nbformat_minor": 5
}
