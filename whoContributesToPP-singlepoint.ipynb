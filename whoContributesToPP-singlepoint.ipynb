{
 "cells": [
  {
   "cell_type": "markdown",
   "id": "3f8bd87b",
   "metadata": {},
   "source": [
    "### aim: spot test of who mostly contributes to primary productivity\n",
    "\n",
    "### date: "
   ]
  },
  {
   "cell_type": "code",
   "execution_count": 47,
   "id": "8012f094",
   "metadata": {},
   "outputs": [
    {
     "data": {
      "text/html": [
       "<script>\n",
       "code_show=true; \n",
       "function code_toggle() {\n",
       " if (code_show){\n",
       " $('div.input').hide();\n",
       " } else {\n",
       " $('div.input').show();\n",
       " }\n",
       " code_show = !code_show\n",
       "} \n",
       "$( document ).ready(code_toggle);\n",
       "</script>\n",
       "<form action=\"javascript:code_toggle()\"><input type=\"submit\" value=\"Click here to toggle on/off the raw code.\"></form>"
      ],
      "text/plain": [
       "<IPython.core.display.HTML object>"
      ]
     },
     "execution_count": 47,
     "metadata": {},
     "output_type": "execute_result"
    }
   ],
   "source": [
    "from IPython.display import HTML\n",
    "\n",
    "HTML('''<script>\n",
    "code_show=true; \n",
    "function code_toggle() {\n",
    " if (code_show){\n",
    " $('div.input').hide();\n",
    " } else {\n",
    " $('div.input').show();\n",
    " }\n",
    " code_show = !code_show\n",
    "} \n",
    "$( document ).ready(code_toggle);\n",
    "</script>\n",
    "<form action=\"javascript:code_toggle()\"><input type=\"submit\" value=\"Click here to toggle on/off the raw code.\"></form>''')\n"
   ]
  },
  {
   "cell_type": "code",
   "execution_count": 48,
   "id": "c99f764a",
   "metadata": {},
   "outputs": [
    {
     "name": "stdin",
     "output_type": "stream",
     "text": [
      "Once deleted, variables cannot be recovered. Proceed (y/[n])?  y\n"
     ]
    }
   ],
   "source": [
    "%reset"
   ]
  },
  {
   "cell_type": "code",
   "execution_count": 49,
   "id": "7ba928a5",
   "metadata": {},
   "outputs": [],
   "source": [
    "import numpy as np\n",
    "from cmocean import cm\n",
    "import cartopy as cp\n",
    "import cartopy.crs as ccrs\n",
    "import netCDF4 as nc\n",
    "import matplotlib.pyplot as plt\n",
    "import xarray as xr\n",
    "\n",
    "%matplotlib inline\n",
    "import warnings\n",
    "from datetime import datetime\n",
    "warnings.filterwarnings('ignore')\n",
    "import cartopy.feature as cfeature\n",
    "from importlib import reload\n",
    "import matplotlib.path as mpath\n",
    "import glob\n",
    "import pickle\n",
    "import pandas as pd\n",
    "import seawater\n",
    "import time\n",
    "plt.rcParams.update({'font.size': 13})\n",
    "font = {'family' : 'normal',\n",
    "'weight' : 'normal',\n",
    "'size'   : 13}\n",
    "plt.rcParams['text.usetex'] = True\n",
    "plt.rc('font', **font)"
   ]
  },
  {
   "cell_type": "code",
   "execution_count": 50,
   "id": "2327f0f3",
   "metadata": {},
   "outputs": [],
   "source": [
    "import prophy_fxns as pf"
   ]
  },
  {
   "cell_type": "markdown",
   "id": "74b2c228-aa00-4bb3-aebc-938686871736",
   "metadata": {},
   "source": [
    "## spot testing backcalculation of ppint"
   ]
  },
  {
   "cell_type": "code",
   "execution_count": 51,
   "id": "bd7cbe64-6402-44f1-a377-dcaa9c8ffa54",
   "metadata": {},
   "outputs": [
    {
     "name": "stdout",
     "output_type": "stream",
     "text": [
      "TOM12_TJ_LA02, 1954, x 125 y 100 z 0 t 4\n",
      "DIA conc: 7.246434563512594e-10, ppt: 4.081765022329488e-12 (mol/L)\n",
      "MIX conc: 5.326225682722452e-09, ppt: 3.9377219683236925e-11 (mol/L)\n",
      "COC conc: 1.6677461189829046e-06, ppt: 6.761088007572719e-09 (mol/L)\n",
      "PIC conc: 6.440674837904226e-08, ppt: 2.1089597695017202e-10 (mol/L)\n",
      "PHA conc: 1.7053629342012044e-10, ppt: 3.671912325494466e-13 (mol/L)\n",
      "FIX conc: 1.4535605608045898e-08, ppt: 8.384205282702646e-12 (mol/L)\n",
      "pp calculated (sum all pfts) (conv mol/m3): 7.02419436574371e-09\n",
      "pp output (mol/m3): 9.533166256403547e-09\n",
      "ratio total calc pp to output pp 0.736816517914546\n",
      "\n",
      "TOM12_TJ_LA02, 1954, x 125 y 40 z 0 t 6\n",
      "DIA conc: 1.570574892362231e-09, ppt: 3.026967533728542e-12 (mol/L)\n",
      "MIX conc: 2.147153121967449e-09, ppt: 9.754714704479427e-12 (mol/L)\n",
      "COC conc: 1.943651284364023e-08, ppt: 2.8468306739252755e-11 (mol/L)\n",
      "PIC conc: 2.941576155990333e-07, ppt: 3.997562203366971e-10 (mol/L)\n",
      "PHA conc: 5.822648745379411e-07, ppt: 1.4497550831545291e-09 (mol/L)\n",
      "FIX conc: 1.1558715096171568e-10, ppt: 5.2663084655326116e-14 (mol/L)\n",
      "pp calculated (sum all pfts) (conv mol/m3): 1.8908139555533424e-09\n",
      "pp output (mol/m3): 2.235113427673241e-09\n",
      "ratio total calc pp to output pp 0.8459588368728493\n",
      "\n",
      "TOM12_TJ_LA02, 1954, x 60 y 40 z 0 t 1\n",
      "DIA conc: 1.3362480566492252e-10, ppt: 7.904118187459858e-14 (mol/L)\n",
      "MIX conc: 1.8516326463213773e-06, ppt: 8.958109234398297e-09 (mol/L)\n",
      "COC conc: 1.533426484456868e-06, ppt: 3.7858370257044565e-09 (mol/L)\n",
      "PIC conc: 1.4844004248004694e-08, ppt: 2.964104583345423e-11 (mol/L)\n",
      "PHA conc: 1.1626872975512015e-07, ppt: 3.362459701352076e-10 (mol/L)\n",
      "FIX conc: 6.71459610135372e-10, ppt: 6.236770885832118e-13 (mol/L)\n",
      "pp calculated (sum all pfts) (conv mol/m3): 1.3110535994341875e-08\n",
      "pp output (mol/m3): 8.30817192820632e-09\n",
      "ratio total calc pp to output pp 1.5780289704683992\n",
      "\n"
     ]
    }
   ],
   "source": [
    "reload(pf)\n",
    "yr = 1954; x = 125; y = 100; t = 4; z = 0\n",
    "\n",
    "def spottest_ppt(yr,x,y,t,z):\n",
    "    \n",
    "    print(f'TOM12_TJ_LA02, {yr}, x {x} y {y} z {z} t {t}')\n",
    "    LoP = f'/gpfs/data/greenocean/software/runs/TOM12_TJ_LA02//ORCA2_1m_{yr}0101_{yr}1231_LoP_T.nc'\n",
    "    diad = f'/gpfs/data/greenocean/software/runs/TOM12_TJ_LA02//ORCA2_1m_{yr}0101_{yr}1231_diad_T.nc'\n",
    "    ptrc = f'/gpfs/data/greenocean/software/runs/TOM12_TJ_LA02//ORCA2_1m_{yr}0101_{yr}1231_ptrc_T.nc'\n",
    "    grid = f'/gpfs/data/greenocean/software/runs/TOM12_TJ_LA02//ORCA2_1m_{yr}0101_{yr}1231_grid_T.nc'\n",
    "\n",
    "    pftv = ['dia','mix','coc','pic','pha','fix']\n",
    "\n",
    "    diad = xr.open_dataset(diad)\n",
    "    ptrc = xr.open_dataset(ptrc)\n",
    "    grid = xr.open_dataset(grid)\n",
    "    LoP = xr.open_dataset(LoP)\n",
    "\n",
    "\n",
    "\n",
    "    ppt = diad['PPT'][t,z,y,x].values \n",
    "    ln = (diad['PPT'].long_name)\n",
    "    pptunits = (diad['PPT'].units)\n",
    "\n",
    "    pftv = ['dia','mix','coc','pic','pha','fix']\n",
    "    ind = 0\n",
    "    ar = np.zeros([6])\n",
    "    for p in pftv:\n",
    "        P = p.upper()\n",
    "        conc = ptrc[P][t,z,y,x].values\n",
    "        units = ptrc[P].units\n",
    "        prophy = pf.get_prophytot(x, y, z, t, p, ptrc, LoP, grid, diad)\n",
    "        #print(prophy.values)\n",
    "        print(f'{P} conc: {conc}, ppt: {prophy.values} ({units})')\n",
    "\n",
    "\n",
    "        ar[ind] = prophy\n",
    "\n",
    "        ind = ind+1\n",
    "\n",
    "    print(f'pp calculated (sum all pfts) (conv mol/m3): {np.nansum(ar)}')\n",
    "    print(f'pp output (mol/m3): {ppt}')\n",
    "    print(f'ratio total calc pp to output pp {np.nansum(ar)/ppt}')\n",
    "    print()\n",
    "\n",
    "yr = 1954; x = 125; y = 100; t = 4; z = 0\n",
    "spottest_ppt(yr,x,y,t,z)\n",
    "\n",
    "yr = 1954; x = 125; y = 40; t = 6; z = 0\n",
    "spottest_ppt(yr,x,y,t,z)\n",
    "\n",
    "yr = 1954; x = 60; y = 40; t = 1; z = 0\n",
    "spottest_ppt(yr,x,y,t,z)\n",
    "#pf.get_prophytot(x, y, z, t, pft, ptrcd, LoPd, gridd, diadd)"
   ]
  },
  {
   "cell_type": "markdown",
   "id": "cadb6f74-f084-4399-83c6-3bc7d8a44c5d",
   "metadata": {},
   "source": [
    "## tgfunc"
   ]
  },
  {
   "cell_type": "code",
   "execution_count": 52,
   "id": "295d25c0-847e-4e2f-8454-43cbc8953084",
   "metadata": {},
   "outputs": [
    {
     "name": "stdout",
     "output_type": "stream",
     "text": [
      "168\n"
     ]
    },
    {
     "data": {
      "text/plain": [
       "Text(0.5, 0, 'deg C')"
      ]
     },
     "execution_count": 52,
     "metadata": {},
     "output_type": "execute_result"
    },
    {
     "data": {
      "image/png": "[encoded data removed]",
      "text/plain": [
       "<Figure size 432x288 with 1 Axes>"
      ]
     },
     "metadata": {
      "needs_background": "light"
     },
     "output_type": "display_data"
    }
   ],
   "source": [
    "pftv = ['dia','mix','pic','pha','fix']\n",
    "\n",
    "tsn = np.arange(-2,40,0.25)\n",
    "print(len(tsn))\n",
    "funcs = np.zeros([5,len(tsn)])\n",
    "\n",
    "for i in range(0,5):\n",
    "    funcs[i,:] = pf.get_tgfunc(tsn,pftv[i])\n",
    "\n",
    "tsn = np.arange(-2,40,0.25)\n",
    "cocs = np.copy(tsn)\n",
    "\n",
    "for i in range(0,len(tsn)):\n",
    "    cocs[i] = pf.get_tgfunc(tsn[i],'coc')\n",
    "plt.figure()\n",
    "for i in range(0,5):\n",
    "    plt.plot(tsn, funcs[i,:], label = pftv[i])\n",
    "plt.plot(tsn, cocs[:], label = 'coc')\n",
    "    \n",
    "plt.legend(bbox_to_anchor = [1,1])\n",
    "plt.title('tgfunc in this run by pft')\n",
    "plt.xlabel('deg C')"
   ]
  },
  {
   "cell_type": "code",
   "execution_count": 53,
   "id": "a55ae7b8-0356-40cc-a316-2676a813793c",
   "metadata": {},
   "outputs": [
    {
     "data": {
      "text/plain": [
       "<matplotlib.collections.QuadMesh at 0x2ba297f565d0>"
      ]
     },
     "execution_count": 53,
     "metadata": {},
     "output_type": "execute_result"
    },
    {
     "data": {
      "image/png": "[encoded data removed]",
      "text/plain": [
       "<Figure size 432x288 with 1 Axes>"
      ]
     },
     "metadata": {
      "needs_background": "light"
     },
     "output_type": "display_data"
    }
   ],
   "source": [
    "tmesh = xr.open_dataset('/gpfs/data/greenocean/software/resources/regrid/mesh_mask3_6.nc')\n",
    "\n",
    "plt.pcolormesh(tmesh.tmask[0,0,:,:])"
   ]
  },
  {
   "cell_type": "markdown",
   "id": "84fdcd03-02c0-4563-b25b-0be634b4656f",
   "metadata": {},
   "source": [
    "## the industrial calculator for the code is here\n",
    "\n",
    "    ~/scratch/LimitsOfPhytoplankton]$ sbatch < extractRunner.bsub"
   ]
  },
  {
   "cell_type": "markdown",
   "id": "5ae1df0d-6d11-44b7-95cd-0c33022179b4",
   "metadata": {},
   "source": [
    "## a 1-square netcdf outputter for example plots is below"
   ]
  },
  {
   "cell_type": "code",
   "execution_count": 54,
   "id": "92ff6fc8-2d53-450a-9db6-b7195c385834",
   "metadata": {},
   "outputs": [
    {
     "name": "stdout",
     "output_type": "stream",
     "text": [
      "ORCA2_1m_19500101_19501231_prophy_dia_T.nc\n",
      "7.3488852977752686\n",
      "ORCA2_1m_19500101_19501231_prophy_mix_T.nc\n",
      "7.624475479125977\n",
      "ORCA2_1m_19500101_19501231_prophy_coc_T.nc\n",
      "7.035813570022583\n",
      "ORCA2_1m_19500101_19501231_prophy_pic_T.nc\n",
      "4.831234693527222\n",
      "ORCA2_1m_19500101_19501231_prophy_pha_T.nc\n",
      "5.33518123626709\n",
      "ORCA2_1m_19500101_19501231_prophy_fix_T.nc\n",
      "3.928105592727661\n",
      "ORCA2_1m_19510101_19511231_prophy_dia_T.nc\n",
      "5.6109864711761475\n",
      "ORCA2_1m_19510101_19511231_prophy_mix_T.nc\n",
      "5.25945520401001\n",
      "ORCA2_1m_19510101_19511231_prophy_coc_T.nc\n",
      "5.604135751724243\n",
      "ORCA2_1m_19510101_19511231_prophy_pic_T.nc\n",
      "5.304892539978027\n",
      "ORCA2_1m_19510101_19511231_prophy_pha_T.nc\n",
      "5.033844470977783\n",
      "ORCA2_1m_19510101_19511231_prophy_fix_T.nc\n",
      "6.395906686782837\n",
      "ORCA2_1m_19520101_19521231_prophy_dia_T.nc\n",
      "8.937516927719116\n",
      "ORCA2_1m_19520101_19521231_prophy_mix_T.nc\n",
      "5.982454776763916\n",
      "ORCA2_1m_19520101_19521231_prophy_coc_T.nc\n",
      "6.041620969772339\n",
      "ORCA2_1m_19520101_19521231_prophy_pic_T.nc\n",
      "4.4713661670684814\n",
      "ORCA2_1m_19520101_19521231_prophy_pha_T.nc\n",
      "5.025832414627075\n",
      "ORCA2_1m_19520101_19521231_prophy_fix_T.nc\n",
      "4.286229848861694\n"
     ]
    }
   ],
   "source": [
    "ex = True\n",
    "\n",
    "yr = 1950\n",
    "y1 = 110; y2 = 111\n",
    "x1 = 130; x2 = 131\n",
    "\n",
    "if ex:\n",
    "    pftv = ['dia','mix','coc','pic','pha','fix']\n",
    "\n",
    "    for yr in range(1950,1953):\n",
    "\n",
    "        LoP = f'/gpfs/data/greenocean/software/runs/TOM12_TJ_LA02//ORCA2_1m_{yr}0101_{yr}1231_LoP_T.nc'\n",
    "        diad = f'/gpfs/data/greenocean/software/runs/TOM12_TJ_LA02//ORCA2_1m_{yr}0101_{yr}1231_diad_T.nc'\n",
    "        ptrc = f'/gpfs/data/greenocean/software/runs/TOM12_TJ_LA02//ORCA2_1m_{yr}0101_{yr}1231_ptrc_T.nc'\n",
    "        grid = f'/gpfs/data/greenocean/software/runs/TOM12_TJ_LA02//ORCA2_1m_{yr}0101_{yr}1231_grid_T.nc'\n",
    "        tdir = '/gpfs/home/mep22dku/scratch/LimitsOfPhytoplankton/testWhoContributes/'\n",
    "\n",
    "        ptrcd, LoPd, gridd, diadd = pf.get_datasets(LoP, diad, ptrc, grid)\n",
    "\n",
    "        for pft in pftv:\n",
    "            tstr = f'ORCA2_1m_{yr}0101_{yr}1231_prophy_{pft}_T.nc'\n",
    "            print(tstr)\n",
    "            savestr = f'{tdir}/{tstr}'\n",
    "\n",
    "\n",
    "\n",
    "\n",
    "            tsn = gridd.votemper.values\n",
    "            prophyar = np.zeros_like(tsn)\n",
    "            tnam = f'pp_{pft}'\n",
    "            gridd[tnam] = gridd.votemper.copy()\n",
    "\n",
    "            tmesh = xr.open_dataset('/gpfs/data/greenocean/software/resources/regrid/mesh_mask3_6.nc')\n",
    "\n",
    "\n",
    "\n",
    "            ## for natl only\n",
    "            t1 = time.time()\n",
    "            for t in range(0,12):\n",
    "\n",
    "                for x in range(x1,x2):\n",
    "                    for y in range(y1,y2): #natl\n",
    "\n",
    "                        for z in range(0,16):\n",
    "                            # for pft in pftv:\n",
    "                            if tmesh.tmask[0,z,y,x] == 0:\n",
    "                                pass\n",
    "                            else:\n",
    "                                prophyar[t,z,y,x] = pf.get_prophytot(x, y, z, t, pft, ptrcd, LoPd, gridd, diadd)\n",
    "                t2 = time.time()\n",
    "            print(t2-t1)\n",
    "\n",
    "            gridd[tnam].values = prophyar\n",
    "            w_sel = gridd[tnam]\n",
    "            w_sel.to_netcdf(savestr)"
   ]
  },
  {
   "cell_type": "code",
   "execution_count": 55,
   "id": "1392a954-10e1-4fdd-a1f8-b0e8506602af",
   "metadata": {},
   "outputs": [],
   "source": [
    "# yr = 1950\n",
    "# y1 = 110; y2 = 111\n",
    "# x1 = 130; x2 = 131\n",
    "# pft = 'dia'\n",
    "# pftv = ['dia','mix','coc','pic','pha','fix']\n",
    "# PFTV = ['DIA','MIX','COC','PIC','PHA','FIX']\n",
    "\n",
    "LoP = xr.open_dataset(f'/gpfs/data/greenocean/software/runs/TOM12_TJ_LA02//ORCA2_1m_{yr}0101_{yr}1231_LoP_T.nc')\n",
    "diad = xr.open_dataset(f'/gpfs/data/greenocean/software/runs/TOM12_TJ_LA02//ORCA2_1m_{yr}0101_{yr}1231_diad_T.nc')\n",
    "ptrc = xr.open_dataset(f'/gpfs/data/greenocean/software/runs/TOM12_TJ_LA02//ORCA2_1m_{yr}0101_{yr}1231_ptrc_T.nc')\n",
    "tdir = '/gpfs/home/mep22dku/scratch/LimitsOfPhytoplankton/testWhoContributes/'\n",
    "pp_dia = xr.open_dataset(f'{tdir}/ORCA2_1m_{yr}0101_{yr}1231_prophy_dia_T.nc')\n",
    "pp_mix = xr.open_dataset(f'{tdir}/ORCA2_1m_{yr}0101_{yr}1231_prophy_mix_T.nc')\n",
    "pp_coc = xr.open_dataset(f'{tdir}/ORCA2_1m_{yr}0101_{yr}1231_prophy_coc_T.nc')\n",
    "pp_pic = xr.open_dataset(f'{tdir}/ORCA2_1m_{yr}0101_{yr}1231_prophy_pic_T.nc')\n",
    "pp_pha = xr.open_dataset(f'{tdir}/ORCA2_1m_{yr}0101_{yr}1231_prophy_pha_T.nc')\n",
    "pp_fix = xr.open_dataset(f'{tdir}/ORCA2_1m_{yr}0101_{yr}1231_prophy_fix_T.nc')\n",
    "\n",
    "ds = xr.merge([pp_dia,pp_mix,pp_coc,pp_pic,pp_pha,pp_fix])\n"
   ]
  },
  {
   "cell_type": "code",
   "execution_count": 56,
   "id": "dff4bc17-7614-4164-b735-a143ed82a32e",
   "metadata": {},
   "outputs": [
    {
     "data": {
      "image/png": "[encoded data removed]",
      "text/plain": [
       "<Figure size 576x432 with 1 Axes>"
      ]
     },
     "metadata": {
      "needs_background": "light"
     },
     "output_type": "display_data"
    }
   ],
   "source": [
    "tvars = ['pp_dia','pp_mix','pp_coc','pp_pic','pp_pha','pp_fix']\n",
    "PFTV = ['DIA','MIX','COC','PIC','PHA','FIX']\n",
    "metro = ['#02954f', '#de4231','#f3c108','#6db8ff','#01529b','grey']\n",
    "x1 = 130; x2 = 111\n",
    "y1 = 110; y2 = 131\n",
    "\n",
    "#110,130\n",
    "# Initialize figure and axis\n",
    "fig, ax = plt.subplots(figsize=(8, 6))\n",
    "\n",
    "# Track the cumulative sum to create stacking effect\n",
    "cumulative = np.zeros_like(ds.deptht.values)\n",
    "# Plot each variable\n",
    "ind = 0\n",
    "for var in tvars:\n",
    "    # Get the data for the variable\n",
    "    values = ds[var][6,:,y1,x1]\n",
    "    \n",
    "    # Calculate the new cumulative total\n",
    "    new_cumulative = cumulative + values\n",
    "    \n",
    "    # Use fill_betweenx to create the stacked profile\n",
    "    ax.fill_betweenx(ds.deptht.values, cumulative, new_cumulative,\\\n",
    "                     label=var, color = metro[ind])\n",
    "    \n",
    "    # Update cumulative for the next stack\n",
    "    cumulative = new_cumulative\n",
    "    ind = ind+1\n",
    "\n",
    "# Invert y-axis if depth is positive going downward\n",
    "ax.set_ylim([0,180])\n",
    "#ax.set_xlim([0,1e-13])\n",
    "ax.invert_yaxis()\n",
    "\n",
    "\n",
    "# Add labels and legend\n",
    "ax.set_xlabel('Value')\n",
    "ax.set_ylabel('Depth')\n",
    "ax.legend(title='Variables')\n",
    "plt.show()"
   ]
  },
  {
   "cell_type": "code",
   "execution_count": null,
   "id": "24137a2d-7287-4fda-a171-59a0f6ccc5a9",
   "metadata": {},
   "outputs": [],
   "source": []
  },
  {
   "cell_type": "markdown",
   "id": "ce80c2e9-ebac-4f90-aaaf-dc40e0c0c37a",
   "metadata": {},
   "source": [
    "## a nice example depth profile"
   ]
  },
  {
   "cell_type": "code",
   "execution_count": 57,
   "id": "e88b5564-1747-4a2c-bc39-d0375b58dd76",
   "metadata": {},
   "outputs": [
    {
     "data": {
      "image/png": "[encoded data removed]",
      "text/plain": [
       "<Figure size 0x0 with 4 Axes>"
      ]
     },
     "metadata": {},
     "output_type": "display_data"
    }
   ],
   "source": [
    "\n",
    "metro = ['#02954f', '#de4231','#f3c108','#6db8ff','#01529b','grey']\n",
    "\n",
    "fact = 0.\n",
    "fig, axs = plt.subplots(2,2, figsize=(12*fact, 14*fact), \\\n",
    "                        facecolor='w', edgecolor='k'\\\n",
    "                       , sharey=True)\n",
    "axs = axs.ravel()\n",
    "\n",
    "tvars = ['pp_dia','pp_mix','pp_coc','pp_pic','pp_pha','pp_fix']\n",
    "PFTV = ['DIA','MIX','COC','PIC','PHA','FIX']\n",
    "\n",
    "x1 = 130; y1 = 110; t = 6\n",
    "\n",
    "# Track the cumulative sum to create stacking effect\n",
    "cumulative = np.zeros_like(ds.deptht.values)\n",
    "ind = 0\n",
    "for var in PFTV:\n",
    "    values = ptrc[var][t,:,y1,x1]\n",
    "    new_cumulative = cumulative + values\n",
    "    axs[0].fill_betweenx(ds.deptht.values, cumulative, new_cumulative,\\\n",
    "                     label=var, color = metro[ind])\n",
    "    \n",
    "    # Update cumulative for the next stack\n",
    "    cumulative = new_cumulative\n",
    "    ind = ind+1\n",
    "    \n",
    "axs[0].legend(loc = 'lower right', ncol = 2)\n",
    "\n",
    "ind = 0\n",
    "cumulative = np.zeros_like(ds.deptht.values)\n",
    "for var in tvars:\n",
    "    values = ds[var][t,:,y1,x1]\n",
    "    new_cumulative = cumulative + values\n",
    "    axs[1].fill_betweenx(ds.deptht.values, cumulative, new_cumulative,\\\n",
    "                     label=var, color = metro[ind])\n",
    "    \n",
    "    # Update cumulative for the next stack\n",
    "    cumulative = new_cumulative\n",
    "    ind = ind+1\n",
    "\n",
    "tvars = ['LV_dia','LV_mix','LV_coc','LV_pic','LV_pha','LV_fix']\n",
    "ind = 0\n",
    "for tvar in tvars:\n",
    "\n",
    "    axs[2].plot(LoP[tvar][t,:,y1,x1],diad.deptht.values,\\\n",
    "                linewidth = 2.5, color = metro[ind])\n",
    "    \n",
    "    ind = ind+1\n",
    "    \n",
    "tvars = ['lim8light_dia','lim8light_mix','lim8light_coc',\\\n",
    "         'lim8light_pic','lim8light_pha','lim8light_fix']\n",
    "ind = 0\n",
    "for tvar in tvars:\n",
    "\n",
    "    axs[3].plot(diad[tvar][t,:,y1,x1],diad.deptht.values,\\\n",
    "                linewidth = 2.5, color = metro[ind])\n",
    "    \n",
    "    ind = ind+1\n",
    "\n",
    "\n",
    "# Invert y-axis if depth is positive going downward\n",
    "for i in range(0,4):\n",
    "    axs[i].set_ylim([5,180])\n",
    "\n",
    "    axs[i].invert_yaxis()\n",
    "\n",
    "axs[1].set_xlim([0,1.4e-11])\n",
    "axs[0].set_xlim([0,3e-6])\n",
    "#axs[0].set_xlabel('mol L$^{-1}$')\n",
    "\n",
    "tits = ['relative PFT concentration', 'relative primary productivity',\\\n",
    "        'relative nutrient limitation',\\\n",
    "        'relative light limitation']\n",
    "for i in range(0,4):\n",
    "    axs[i].set_xticks([])\n",
    "    axs[i].set_title(tits[i])\n",
    "axs[0].set_ylabel('depth (m)')\n",
    "axs[2].set_ylabel('depth (m)')\n",
    "\n",
    "\n",
    "# axs[1].set_xlabel('relative PP')\n",
    "# Add labels and legend\n",
    "\n",
    "plt.show()"
   ]
  },
  {
   "cell_type": "code",
   "execution_count": null,
   "id": "587717cd-2050-456f-a74c-65f68e166773",
   "metadata": {},
   "outputs": [],
   "source": []
  }
 ],
 "metadata": {
  "kernelspec": {
   "display_name": "Python 3 (ipykernel)",
   "language": "python",
   "name": "python3"
  },
  "language_info": {
   "codemirror_mode": {
    "name": "ipython",
    "version": 3
   },
   "file_extension": ".py",
   "mimetype": "text/x-python",
   "name": "python",
   "nbconvert_exporter": "python",
   "pygments_lexer": "ipython3",
   "version": "3.7.11"
  }
 },
 "nbformat": 4,
 "nbformat_minor": 5
}
